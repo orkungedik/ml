{
  "cells": [
    {
      "cell_type": "markdown",
      "id": "17f3eea2",
      "metadata": {
        "id": "17f3eea2"
      },
      "source": [
        "### Loading Data"
      ]
    },
    {
      "cell_type": "code",
      "execution_count": null,
      "id": "f4e7712f",
      "metadata": {
        "id": "f4e7712f",
        "outputId": "cd479899-0794-4e1a-da63-d80be30db7f6",
        "colab": {
          "base_uri": "https://localhost:8080/",
          "height": 217
        }
      },
      "outputs": [
        {
          "output_type": "error",
          "ename": "FileNotFoundError",
          "evalue": "[Errno 2] No such file or directory: 'Sheakspere'",
          "traceback": [
            "\u001b[0;31m---------------------------------------------------------------------------\u001b[0m",
            "\u001b[0;31mFileNotFoundError\u001b[0m                         Traceback (most recent call last)",
            "\u001b[0;32m<ipython-input-43-33c03c92ab16>\u001b[0m in \u001b[0;36m<cell line: 2>\u001b[0;34m()\u001b[0m\n\u001b[1;32m      1\u001b[0m \u001b[0;31m#file = open('Royal_data.txt', 'r')\u001b[0m\u001b[0;34m\u001b[0m\u001b[0;34m\u001b[0m\u001b[0m\n\u001b[0;32m----> 2\u001b[0;31m \u001b[0mfile\u001b[0m \u001b[0;34m=\u001b[0m \u001b[0mopen\u001b[0m\u001b[0;34m(\u001b[0m\u001b[0;34m'Sheakspere'\u001b[0m\u001b[0;34m,\u001b[0m \u001b[0;34m'r'\u001b[0m\u001b[0;34m)\u001b[0m\u001b[0;34m\u001b[0m\u001b[0;34m\u001b[0m\u001b[0m\n\u001b[0m\u001b[1;32m      3\u001b[0m \u001b[0mroyal_data\u001b[0m \u001b[0;34m=\u001b[0m \u001b[0mfile\u001b[0m\u001b[0;34m.\u001b[0m\u001b[0mreadlines\u001b[0m\u001b[0;34m(\u001b[0m\u001b[0;34m)\u001b[0m\u001b[0;34m\u001b[0m\u001b[0;34m\u001b[0m\u001b[0m\n\u001b[1;32m      4\u001b[0m \u001b[0mprint\u001b[0m\u001b[0;34m(\u001b[0m\u001b[0mroyal_data\u001b[0m\u001b[0;34m)\u001b[0m\u001b[0;34m\u001b[0m\u001b[0;34m\u001b[0m\u001b[0m\n\u001b[1;32m      5\u001b[0m \u001b[0mfile\u001b[0m\u001b[0;34m.\u001b[0m\u001b[0mclose\u001b[0m\u001b[0;34m(\u001b[0m\u001b[0;34m)\u001b[0m\u001b[0;34m\u001b[0m\u001b[0;34m\u001b[0m\u001b[0m\n",
            "\u001b[0;31mFileNotFoundError\u001b[0m: [Errno 2] No such file or directory: 'Sheakspere'"
          ]
        }
      ],
      "source": [
        "file = open('Royal_data.txt', 'r')\n",
        "#file = open('Sheakspere.txt', 'r')\n",
        "royal_data = file.readlines()\n",
        "print(royal_data)\n",
        "file.close()"
      ]
    },
    {
      "cell_type": "markdown",
      "id": "1369aa51",
      "metadata": {
        "id": "1369aa51"
      },
      "source": [
        "### Removing '\\n' from the end of every sentence and convert the sentence into lowercase   \n"
      ]
    },
    {
      "cell_type": "code",
      "execution_count": null,
      "id": "88af9298",
      "metadata": {
        "id": "88af9298",
        "outputId": "8e36349d-256a-4d92-fc29-7f717839abbe",
        "colab": {
          "base_uri": "https://localhost:8080/"
        }
      },
      "outputs": [
        {
          "output_type": "stream",
          "name": "stdout",
          "text": [
            "['the future king is the prince', 'daughter is the princess', 'son is the prince', 'only a man can be a king', 'only a woman can be a queen', 'the princess will be a queen', 'the prince is a strong man', 'the princess is a beautiful woman', 'prince is only a boy now', 'prince will be king', 'a boy will be a man']\n"
          ]
        }
      ],
      "source": [
        "for i in range(len(royal_data)):\n",
        "    royal_data[i] = royal_data[i].lower().replace('\\n', '')\n",
        "\n",
        "print(royal_data)\n"
      ]
    },
    {
      "cell_type": "markdown",
      "id": "03c1aec2",
      "metadata": {
        "id": "03c1aec2"
      },
      "source": [
        "### Removing stop words\n"
      ]
    },
    {
      "cell_type": "code",
      "execution_count": null,
      "id": "236da810",
      "metadata": {
        "id": "236da810",
        "colab": {
          "base_uri": "https://localhost:8080/"
        },
        "outputId": "61b9403e-134e-4495-b800-1bee5ae6cf9f"
      },
      "outputs": [
        {
          "output_type": "stream",
          "name": "stdout",
          "text": [
            "[['future', 'king', 'prince'], ['daughter', 'princess'], ['son', 'prince'], ['man', 'king'], ['woman', 'queen'], ['princess', 'queen'], ['prince', 'strong', 'man'], ['princess', 'beautiful', 'woman'], ['prince', 'boy'], ['prince', 'king'], ['boy', 'man']]\n"
          ]
        }
      ],
      "source": [
        "stopwords = ['the', 'is', 'will', 'be', 'a', 'only', 'can', 'their', 'now', 'and', 'at', 'it']\n",
        "\n",
        "filtered_data = []\n",
        "for sent in royal_data:\n",
        "    temp = []\n",
        "    for word in sent.split():\n",
        "        if word not in stopwords:\n",
        "            temp.append(word)\n",
        "    filtered_data.append(temp)\n",
        "\n",
        "print(filtered_data)"
      ]
    },
    {
      "cell_type": "markdown",
      "id": "9c060ff9",
      "metadata": {
        "id": "9c060ff9"
      },
      "source": [
        "### Creating bigrams\n"
      ]
    },
    {
      "cell_type": "code",
      "execution_count": null,
      "id": "feb52dc7",
      "metadata": {
        "id": "feb52dc7",
        "colab": {
          "base_uri": "https://localhost:8080/"
        },
        "outputId": "31038adf-b7dd-4350-af43-60142b17d70d"
      },
      "outputs": [
        {
          "output_type": "stream",
          "name": "stdout",
          "text": [
            "[['future', 'king'], ['king', 'future'], ['future', 'prince'], ['prince', 'future'], ['king', 'prince'], ['prince', 'king'], ['daughter', 'princess'], ['princess', 'daughter'], ['son', 'prince'], ['prince', 'son'], ['man', 'king'], ['king', 'man'], ['woman', 'queen'], ['queen', 'woman'], ['princess', 'queen'], ['queen', 'princess'], ['prince', 'strong'], ['strong', 'prince'], ['prince', 'man'], ['man', 'prince'], ['strong', 'man'], ['man', 'strong'], ['princess', 'beautiful'], ['beautiful', 'princess'], ['princess', 'woman'], ['woman', 'princess'], ['beautiful', 'woman'], ['woman', 'beautiful'], ['prince', 'boy'], ['boy', 'prince'], ['prince', 'king'], ['king', 'prince'], ['boy', 'man'], ['man', 'boy']]\n"
          ]
        }
      ],
      "source": [
        "bigrams = []\n",
        "for words_list in filtered_data:\n",
        "    for i in range(len(words_list) - 1):\n",
        "        for j in range(i+1, len(words_list)):\n",
        "            bigrams.append([words_list[i], words_list[j]])\n",
        "            bigrams.append([words_list[j], words_list[i]])\n",
        "\n",
        "\n",
        "print(bigrams)"
      ]
    },
    {
      "cell_type": "markdown",
      "id": "a9c73a57",
      "metadata": {
        "id": "a9c73a57"
      },
      "source": [
        "### Getting a list of unique words"
      ]
    },
    {
      "cell_type": "code",
      "execution_count": null,
      "id": "20547a7c",
      "metadata": {
        "id": "20547a7c",
        "colab": {
          "base_uri": "https://localhost:8080/"
        },
        "outputId": "c00ebd38-ac6a-415b-be0d-248124ceab8e"
      },
      "outputs": [
        {
          "output_type": "stream",
          "name": "stdout",
          "text": [
            "['beautiful', 'boy', 'daughter', 'future', 'king', 'man', 'prince', 'princess', 'queen', 'son', 'strong', 'woman']\n",
            "Total number of unique words are: 12\n"
          ]
        }
      ],
      "source": [
        "all_words = []\n",
        "for bi in bigrams:\n",
        "    all_words.extend(bi)\n",
        "\n",
        "all_words = list(set(all_words))\n",
        "all_words.sort()\n",
        "\n",
        "print(all_words)\n",
        "print(\"Total number of unique words are:\", len(all_words))"
      ]
    },
    {
      "cell_type": "markdown",
      "id": "2e20adfa",
      "metadata": {
        "id": "2e20adfa"
      },
      "source": [
        "### Creating dictionary of words"
      ]
    },
    {
      "cell_type": "code",
      "execution_count": null,
      "id": "5e8da645",
      "metadata": {
        "id": "5e8da645",
        "colab": {
          "base_uri": "https://localhost:8080/"
        },
        "outputId": "243fbb7a-2e41-4550-a236-81ed3045c986"
      },
      "outputs": [
        {
          "output_type": "stream",
          "name": "stdout",
          "text": [
            "{'beautiful': 0, 'boy': 1, 'daughter': 2, 'future': 3, 'king': 4, 'man': 5, 'prince': 6, 'princess': 7, 'queen': 8, 'son': 9, 'strong': 10, 'woman': 11}\n"
          ]
        }
      ],
      "source": [
        "words_dict = {}\n",
        "\n",
        "counter = 0\n",
        "for word in all_words:\n",
        "    words_dict[word] = counter\n",
        "    counter += 1\n",
        "\n",
        "print(words_dict)"
      ]
    },
    {
      "cell_type": "markdown",
      "id": "3f911c7d",
      "metadata": {
        "id": "3f911c7d"
      },
      "source": [
        "### Performing one-hot encoding"
      ]
    },
    {
      "cell_type": "code",
      "execution_count": null,
      "id": "7062308d",
      "metadata": {
        "id": "7062308d",
        "colab": {
          "base_uri": "https://localhost:8080/"
        },
        "outputId": "25f94faf-250f-417c-ef5a-4544b1ca0e59"
      },
      "outputs": [
        {
          "output_type": "stream",
          "name": "stdout",
          "text": [
            "beautiful : [1. 0. 0. 0. 0. 0. 0. 0. 0. 0. 0. 0.]\n",
            "boy : [0. 1. 0. 0. 0. 0. 0. 0. 0. 0. 0. 0.]\n",
            "daughter : [0. 0. 1. 0. 0. 0. 0. 0. 0. 0. 0. 0.]\n",
            "future : [0. 0. 0. 1. 0. 0. 0. 0. 0. 0. 0. 0.]\n",
            "king : [0. 0. 0. 0. 1. 0. 0. 0. 0. 0. 0. 0.]\n",
            "man : [0. 0. 0. 0. 0. 1. 0. 0. 0. 0. 0. 0.]\n",
            "prince : [0. 0. 0. 0. 0. 0. 1. 0. 0. 0. 0. 0.]\n",
            "princess : [0. 0. 0. 0. 0. 0. 0. 1. 0. 0. 0. 0.]\n",
            "queen : [0. 0. 0. 0. 0. 0. 0. 0. 1. 0. 0. 0.]\n",
            "son : [0. 0. 0. 0. 0. 0. 0. 0. 0. 1. 0. 0.]\n",
            "strong : [0. 0. 0. 0. 0. 0. 0. 0. 0. 0. 1. 0.]\n",
            "woman : [0. 0. 0. 0. 0. 0. 0. 0. 0. 0. 0. 1.]\n"
          ]
        }
      ],
      "source": [
        "import numpy as np\n",
        "\n",
        "onehot_data = np.zeros((len(all_words), len(all_words)))\n",
        "\n",
        "for i in range(len(all_words)):\n",
        "    onehot_data[i][i] = 1\n",
        "\n",
        "onehot_dict = {}\n",
        "counter = 0\n",
        "for word in all_words:\n",
        "    onehot_dict[word] = onehot_data[counter]\n",
        "    counter += 1\n",
        "\n",
        "for word in onehot_dict:\n",
        "    print(word, \":\", onehot_dict[word])\n"
      ]
    },
    {
      "cell_type": "code",
      "execution_count": null,
      "id": "0a6fe9e5",
      "metadata": {
        "id": "0a6fe9e5",
        "colab": {
          "base_uri": "https://localhost:8080/"
        },
        "outputId": "b8818701-c01c-435c-865d-5cac4cc7958f"
      },
      "outputs": [
        {
          "output_type": "stream",
          "name": "stdout",
          "text": [
            "['future', 'king']\n",
            "['king', 'future']\n",
            "['future', 'prince']\n",
            "['prince', 'future']\n",
            "['king', 'prince']\n",
            "['prince', 'king']\n",
            "['daughter', 'princess']\n",
            "['princess', 'daughter']\n",
            "['son', 'prince']\n",
            "['prince', 'son']\n",
            "['man', 'king']\n",
            "['king', 'man']\n",
            "['woman', 'queen']\n",
            "['queen', 'woman']\n",
            "['princess', 'queen']\n",
            "['queen', 'princess']\n",
            "['prince', 'strong']\n",
            "['strong', 'prince']\n",
            "['prince', 'man']\n",
            "['man', 'prince']\n",
            "['strong', 'man']\n",
            "['man', 'strong']\n",
            "['princess', 'beautiful']\n",
            "['beautiful', 'princess']\n",
            "['princess', 'woman']\n",
            "['woman', 'princess']\n",
            "['beautiful', 'woman']\n",
            "['woman', 'beautiful']\n",
            "['prince', 'boy']\n",
            "['boy', 'prince']\n",
            "['prince', 'king']\n",
            "['king', 'prince']\n",
            "['boy', 'man']\n",
            "['man', 'boy']\n"
          ]
        }
      ],
      "source": [
        "X = []\n",
        "Y = []\n",
        "\n",
        "for bi in bigrams:\n",
        "    print(bi)\n",
        "    X.append(onehot_dict[bi[0]])\n",
        "    Y.append(onehot_dict[bi[1]])\n",
        "\n",
        "X = np.array(X)\n",
        "Y = np.array(Y)"
      ]
    },
    {
      "cell_type": "code",
      "source": [
        "X"
      ],
      "metadata": {
        "id": "rzQwdJARRIlL",
        "outputId": "8fa11d5d-751b-4eb5-d95c-fd4faf4d36d4",
        "colab": {
          "base_uri": "https://localhost:8080/"
        }
      },
      "id": "rzQwdJARRIlL",
      "execution_count": null,
      "outputs": [
        {
          "output_type": "execute_result",
          "data": {
            "text/plain": [
              "array([[0., 0., 0., 1., 0., 0., 0., 0., 0., 0., 0., 0.],\n",
              "       [0., 0., 0., 0., 1., 0., 0., 0., 0., 0., 0., 0.],\n",
              "       [0., 0., 0., 1., 0., 0., 0., 0., 0., 0., 0., 0.],\n",
              "       [0., 0., 0., 0., 0., 0., 1., 0., 0., 0., 0., 0.],\n",
              "       [0., 0., 0., 0., 1., 0., 0., 0., 0., 0., 0., 0.],\n",
              "       [0., 0., 0., 0., 0., 0., 1., 0., 0., 0., 0., 0.],\n",
              "       [0., 0., 1., 0., 0., 0., 0., 0., 0., 0., 0., 0.],\n",
              "       [0., 0., 0., 0., 0., 0., 0., 1., 0., 0., 0., 0.],\n",
              "       [0., 0., 0., 0., 0., 0., 0., 0., 0., 1., 0., 0.],\n",
              "       [0., 0., 0., 0., 0., 0., 1., 0., 0., 0., 0., 0.],\n",
              "       [0., 0., 0., 0., 0., 1., 0., 0., 0., 0., 0., 0.],\n",
              "       [0., 0., 0., 0., 1., 0., 0., 0., 0., 0., 0., 0.],\n",
              "       [0., 0., 0., 0., 0., 0., 0., 0., 0., 0., 0., 1.],\n",
              "       [0., 0., 0., 0., 0., 0., 0., 0., 1., 0., 0., 0.],\n",
              "       [0., 0., 0., 0., 0., 0., 0., 1., 0., 0., 0., 0.],\n",
              "       [0., 0., 0., 0., 0., 0., 0., 0., 1., 0., 0., 0.],\n",
              "       [0., 0., 0., 0., 0., 0., 1., 0., 0., 0., 0., 0.],\n",
              "       [0., 0., 0., 0., 0., 0., 0., 0., 0., 0., 1., 0.],\n",
              "       [0., 0., 0., 0., 0., 0., 1., 0., 0., 0., 0., 0.],\n",
              "       [0., 0., 0., 0., 0., 1., 0., 0., 0., 0., 0., 0.],\n",
              "       [0., 0., 0., 0., 0., 0., 0., 0., 0., 0., 1., 0.],\n",
              "       [0., 0., 0., 0., 0., 1., 0., 0., 0., 0., 0., 0.],\n",
              "       [0., 0., 0., 0., 0., 0., 0., 1., 0., 0., 0., 0.],\n",
              "       [1., 0., 0., 0., 0., 0., 0., 0., 0., 0., 0., 0.],\n",
              "       [0., 0., 0., 0., 0., 0., 0., 1., 0., 0., 0., 0.],\n",
              "       [0., 0., 0., 0., 0., 0., 0., 0., 0., 0., 0., 1.],\n",
              "       [1., 0., 0., 0., 0., 0., 0., 0., 0., 0., 0., 0.],\n",
              "       [0., 0., 0., 0., 0., 0., 0., 0., 0., 0., 0., 1.],\n",
              "       [0., 0., 0., 0., 0., 0., 1., 0., 0., 0., 0., 0.],\n",
              "       [0., 1., 0., 0., 0., 0., 0., 0., 0., 0., 0., 0.],\n",
              "       [0., 0., 0., 0., 0., 0., 1., 0., 0., 0., 0., 0.],\n",
              "       [0., 0., 0., 0., 1., 0., 0., 0., 0., 0., 0., 0.],\n",
              "       [0., 1., 0., 0., 0., 0., 0., 0., 0., 0., 0., 0.],\n",
              "       [0., 0., 0., 0., 0., 1., 0., 0., 0., 0., 0., 0.]])"
            ]
          },
          "metadata": {},
          "execution_count": 51
        }
      ]
    },
    {
      "cell_type": "code",
      "source": [
        "Y"
      ],
      "metadata": {
        "id": "6uM5nA2cKriQ",
        "colab": {
          "base_uri": "https://localhost:8080/"
        },
        "outputId": "c98fec75-8fb9-4e08-e8f4-27e70ea36f2d"
      },
      "id": "6uM5nA2cKriQ",
      "execution_count": null,
      "outputs": [
        {
          "output_type": "execute_result",
          "data": {
            "text/plain": [
              "array([[0., 0., 0., 0., 1., 0., 0., 0., 0., 0., 0., 0.],\n",
              "       [0., 0., 0., 1., 0., 0., 0., 0., 0., 0., 0., 0.],\n",
              "       [0., 0., 0., 0., 0., 0., 1., 0., 0., 0., 0., 0.],\n",
              "       [0., 0., 0., 1., 0., 0., 0., 0., 0., 0., 0., 0.],\n",
              "       [0., 0., 0., 0., 0., 0., 1., 0., 0., 0., 0., 0.],\n",
              "       [0., 0., 0., 0., 1., 0., 0., 0., 0., 0., 0., 0.],\n",
              "       [0., 0., 0., 0., 0., 0., 0., 1., 0., 0., 0., 0.],\n",
              "       [0., 0., 1., 0., 0., 0., 0., 0., 0., 0., 0., 0.],\n",
              "       [0., 0., 0., 0., 0., 0., 1., 0., 0., 0., 0., 0.],\n",
              "       [0., 0., 0., 0., 0., 0., 0., 0., 0., 1., 0., 0.],\n",
              "       [0., 0., 0., 0., 1., 0., 0., 0., 0., 0., 0., 0.],\n",
              "       [0., 0., 0., 0., 0., 1., 0., 0., 0., 0., 0., 0.],\n",
              "       [0., 0., 0., 0., 0., 0., 0., 0., 1., 0., 0., 0.],\n",
              "       [0., 0., 0., 0., 0., 0., 0., 0., 0., 0., 0., 1.],\n",
              "       [0., 0., 0., 0., 0., 0., 0., 0., 1., 0., 0., 0.],\n",
              "       [0., 0., 0., 0., 0., 0., 0., 1., 0., 0., 0., 0.],\n",
              "       [0., 0., 0., 0., 0., 0., 0., 0., 0., 0., 1., 0.],\n",
              "       [0., 0., 0., 0., 0., 0., 1., 0., 0., 0., 0., 0.],\n",
              "       [0., 0., 0., 0., 0., 1., 0., 0., 0., 0., 0., 0.],\n",
              "       [0., 0., 0., 0., 0., 0., 1., 0., 0., 0., 0., 0.],\n",
              "       [0., 0., 0., 0., 0., 1., 0., 0., 0., 0., 0., 0.],\n",
              "       [0., 0., 0., 0., 0., 0., 0., 0., 0., 0., 1., 0.],\n",
              "       [1., 0., 0., 0., 0., 0., 0., 0., 0., 0., 0., 0.],\n",
              "       [0., 0., 0., 0., 0., 0., 0., 1., 0., 0., 0., 0.],\n",
              "       [0., 0., 0., 0., 0., 0., 0., 0., 0., 0., 0., 1.],\n",
              "       [0., 0., 0., 0., 0., 0., 0., 1., 0., 0., 0., 0.],\n",
              "       [0., 0., 0., 0., 0., 0., 0., 0., 0., 0., 0., 1.],\n",
              "       [1., 0., 0., 0., 0., 0., 0., 0., 0., 0., 0., 0.],\n",
              "       [0., 1., 0., 0., 0., 0., 0., 0., 0., 0., 0., 0.],\n",
              "       [0., 0., 0., 0., 0., 0., 1., 0., 0., 0., 0., 0.],\n",
              "       [0., 0., 0., 0., 1., 0., 0., 0., 0., 0., 0., 0.],\n",
              "       [0., 0., 0., 0., 0., 0., 1., 0., 0., 0., 0., 0.],\n",
              "       [0., 0., 0., 0., 0., 1., 0., 0., 0., 0., 0., 0.],\n",
              "       [0., 1., 0., 0., 0., 0., 0., 0., 0., 0., 0., 0.]])"
            ]
          },
          "metadata": {},
          "execution_count": 52
        }
      ]
    },
    {
      "cell_type": "markdown",
      "id": "d218441d",
      "metadata": {
        "id": "d218441d"
      },
      "source": [
        "### Model"
      ]
    },
    {
      "cell_type": "code",
      "execution_count": null,
      "id": "91f1fa31",
      "metadata": {
        "id": "91f1fa31"
      },
      "outputs": [],
      "source": [
        "from keras.models import Sequential\n",
        "from keras.layers import Dense\n",
        "\n",
        "embed_size = 2\n",
        "\n",
        "model = Sequential([\n",
        "    Dense(embed_size, activation='linear'),\n",
        "    Dense(Y.shape[1], activation = 'softmax')\n",
        "])\n",
        "\n",
        "model.compile(loss = 'categorical_crossentropy', optimizer = 'adam')\n",
        "\n"
      ]
    },
    {
      "cell_type": "code",
      "execution_count": null,
      "id": "3796ca1b",
      "metadata": {
        "id": "3796ca1b"
      },
      "outputs": [],
      "source": [
        "model.fit(X, Y, epochs = 1000, batch_size = 256, verbose = False)"
      ]
    },
    {
      "cell_type": "code",
      "execution_count": null,
      "id": "2e9d8ebe",
      "metadata": {
        "id": "2e9d8ebe"
      },
      "outputs": [],
      "source": [
        "weights = model.get_weights()[0]\n",
        "\n",
        "word_embeddings = {}\n",
        "for word in all_words:\n",
        "    word_embeddings[word] = weights[words_dict[word]]\n",
        "    print(word, word_embeddings[word])"
      ]
    },
    {
      "cell_type": "code",
      "execution_count": null,
      "id": "95cf5e2d",
      "metadata": {
        "id": "95cf5e2d"
      },
      "outputs": [],
      "source": [
        "import matplotlib.pyplot as plt\n",
        "\n",
        "# plt.figure(figsize = (10, 10))\n",
        "for word in list(words_dict.keys()):\n",
        "    coord = word_embeddings.get(word)\n",
        "    plt.scatter(coord[0], coord[1])\n",
        "    plt.annotate(word, (coord[0], coord[1]))\n",
        "\n",
        "plt.savefig('img.jpg')"
      ]
    },
    {
      "cell_type": "code",
      "source": [
        "X[26][None,]"
      ],
      "metadata": {
        "id": "FMz0HCb0FtIo"
      },
      "id": "FMz0HCb0FtIo",
      "execution_count": null,
      "outputs": []
    },
    {
      "cell_type": "code",
      "source": [
        "X"
      ],
      "metadata": {
        "id": "fc9-giM1IA0s"
      },
      "id": "fc9-giM1IA0s",
      "execution_count": null,
      "outputs": []
    },
    {
      "cell_type": "code",
      "execution_count": null,
      "id": "e116aadf",
      "metadata": {
        "id": "e116aadf"
      },
      "outputs": [],
      "source": [
        "import numpy\n",
        "x=model.predict(onehot_dict['beautiful'].reshape(1,-1))\n",
        "print(x)\n",
        "print(numpy.max(x))\n",
        "all_words[numpy.argmax(x)]"
      ]
    }
  ],
  "metadata": {
    "kernelspec": {
      "display_name": "Python 3",
      "name": "python3"
    },
    "language_info": {
      "codemirror_mode": {
        "name": "ipython",
        "version": 3
      },
      "file_extension": ".py",
      "mimetype": "text/x-python",
      "name": "python",
      "nbconvert_exporter": "python",
      "pygments_lexer": "ipython3",
      "version": "3.9.1"
    },
    "vscode": {
      "interpreter": {
        "hash": "f06e3119828c145c4028f0fee76387e74b42caa79bccb80b4ba64fe213bb9e06"
      }
    },
    "colab": {
      "provenance": [],
      "gpuType": "T4"
    },
    "accelerator": "GPU"
  },
  "nbformat": 4,
  "nbformat_minor": 5
}